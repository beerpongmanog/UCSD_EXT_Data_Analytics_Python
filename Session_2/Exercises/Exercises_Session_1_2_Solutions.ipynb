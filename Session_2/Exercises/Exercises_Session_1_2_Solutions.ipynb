{
 "cells": [
  {
   "cell_type": "markdown",
   "metadata": {},
   "source": [
    "# Complete Each Exercise"
   ]
  },
  {
   "cell_type": "markdown",
   "metadata": {},
   "source": [
    "This is not graded, but important for learning Python. This is the learn by doing portion of the lecture. It is important to keep in mind that there are several ways to solve each of these exercises."
   ]
  },
  {
   "cell_type": "markdown",
   "metadata": {},
   "source": [
    "## 0) Conditional Logic \n",
    "\n",
    "1. Assign declare and assign a variable num to an integer value. \n",
    "2. Write a series of if, elif, else statements that will print the num you assigned. But for multiples of three print \"Fizz\" instead of the number and for the multiples of five print \"Buzz\". For numbers which are multiples of both three and five print \"FizzBuzz\"."
   ]
  },
  {
   "cell_type": "markdown",
   "metadata": {},
   "source": [
    "### Approach 1"
   ]
  },
  {
   "cell_type": "code",
   "execution_count": 4,
   "metadata": {},
   "outputs": [
    {
     "name": "stdout",
     "output_type": "stream",
     "text": [
      "FizzBuzz\n"
     ]
    }
   ],
   "source": [
    "num = 15\n",
    "\n",
    "if num % 3 == 0 and num % 5 == 0:\n",
    "    print('FizzBuzz')\n",
    "elif num % 3 == 0:\n",
    "    print('Fizz')\n",
    "elif num % 5 == 0:\n",
    "    print('Buzz')\n",
    "else:\n",
    "    print(num)"
   ]
  },
  {
   "cell_type": "markdown",
   "metadata": {},
   "source": [
    "### Approach 2\n",
    "\n",
    "Notice how difficult this solution is relative to Solution 1"
   ]
  },
  {
   "cell_type": "code",
   "execution_count": 5,
   "metadata": {},
   "outputs": [
    {
     "name": "stdout",
     "output_type": "stream",
     "text": [
      "FizzBuzz\n"
     ]
    }
   ],
   "source": [
    "string = \"\"\n",
    "if num % 3 == 0:\n",
    "    string = string + \"Fizz\"\n",
    "if num % 5 == 0:\n",
    "    string = string + \"Buzz\"\n",
    "if num % 5 != 0 and num % 3 != 0:\n",
    "    string = string + str(num)\n",
    "print(string)"
   ]
  },
  {
   "cell_type": "markdown",
   "metadata": {},
   "source": [
    "## 1). FizzBuzz\n",
    "\n",
    "Write a program that prints the numbers from 1 to 20. But for multiples of three print “Fizz” instead of the number and for the multiples of five print “Buzz”. For numbers which are multiples of both three and five print “FizzBuzz”."
   ]
  },
  {
   "cell_type": "markdown",
   "metadata": {},
   "source": [
    "### Approach 1: Use if, elif, and else"
   ]
  },
  {
   "cell_type": "code",
   "execution_count": 9,
   "metadata": {},
   "outputs": [
    {
     "name": "stdout",
     "output_type": "stream",
     "text": [
      "1\n",
      "2\n",
      "Fizz\n",
      "4\n",
      "Buzz\n",
      "Fizz\n",
      "7\n",
      "8\n",
      "Fizz\n",
      "Buzz\n",
      "11\n",
      "Fizz\n",
      "13\n",
      "14\n",
      "FizzBuzz\n",
      "16\n",
      "17\n",
      "Fizz\n",
      "19\n",
      "Buzz\n"
     ]
    }
   ],
   "source": [
    "for num in range(1, 21):\n",
    "    if num % 3 == 0 and num % 5 == 0:\n",
    "        print('FizzBuzz')\n",
    "    elif num % 3 == 0:\n",
    "        print('Fizz')\n",
    "    elif num % 5 == 0:\n",
    "        print('Buzz')\n",
    "    else:\n",
    "        print(num)"
   ]
  },
  {
   "cell_type": "markdown",
   "metadata": {},
   "source": [
    "### Approach 2: Concatenating Strings"
   ]
  },
  {
   "cell_type": "code",
   "execution_count": 4,
   "metadata": {},
   "outputs": [
    {
     "name": "stdout",
     "output_type": "stream",
     "text": [
      "1\n",
      "2\n",
      "Fizz\n",
      "4\n",
      "Buzz\n",
      "Fizz\n",
      "7\n",
      "8\n",
      "Fizz\n",
      "Buzz\n",
      "11\n",
      "Fizz\n",
      "13\n",
      "14\n",
      "FizzBuzz\n",
      "16\n",
      "17\n",
      "Fizz\n",
      "19\n",
      "Buzz\n"
     ]
    }
   ],
   "source": [
    "for num in range(1,21):\n",
    "    string = \"\"\n",
    "    if num % 3 == 0:\n",
    "        string = string + \"Fizz\"\n",
    "    if num % 5 == 0:\n",
    "        string = string + \"Buzz\"\n",
    "    if num % 5 != 0 and num % 3 != 0:\n",
    "        string = string + str(num)\n",
    "    print(string)"
   ]
  },
  {
   "cell_type": "markdown",
   "metadata": {},
   "source": [
    "## 2). Generate Prime Numbers\n",
    "Write a program to generate a <b>list</b> of all prime numbers less than 20.\n",
    "Before starting it is important to note what a prime number is.\n",
    "1. A prime number has to be a positive integer\n",
    "2. Divisible by exactly 2 integers (1 and itself)\n",
    "3. 1 is not a prime number"
   ]
  },
  {
   "cell_type": "code",
   "execution_count": 17,
   "metadata": {},
   "outputs": [],
   "source": [
    "##  Approach 1: For loops\n",
    "\n",
    "# Initialize a list\n",
    "primes = []\n",
    "for possiblePrime in range(2, 21):\n",
    "    \n",
    "    # Assume number is prime until shown it is not. \n",
    "    isPrime = True\n",
    "    for num in range(2, possiblePrime):\n",
    "        if possiblePrime % num == 0:\n",
    "            isPrime = False\n",
    "      \n",
    "    if isPrime:\n",
    "        primes.append(possiblePrime)"
   ]
  },
  {
   "cell_type": "code",
   "execution_count": 18,
   "metadata": {},
   "outputs": [
    {
     "data": {
      "text/plain": [
       "[2, 3, 5, 7, 11, 13, 17, 19]"
      ]
     },
     "execution_count": 18,
     "metadata": {},
     "output_type": "execute_result"
    }
   ],
   "source": [
    "primes"
   ]
  },
  {
   "cell_type": "code",
   "execution_count": 19,
   "metadata": {},
   "outputs": [
    {
     "data": {
      "text/plain": [
       "[2, 3]"
      ]
     },
     "execution_count": 19,
     "metadata": {},
     "output_type": "execute_result"
    }
   ],
   "source": [
    "list(range(2,4))"
   ]
  },
  {
   "cell_type": "markdown",
   "metadata": {},
   "source": [
    "If you look at the inner for loop enclosed in the red rectangle below, notice that as soon <b>isPrime</b> is False, it is inefficient to keep on iterating. It would be more efficient to exit out of the loop."
   ]
  },
  {
   "cell_type": "markdown",
   "metadata": {},
   "source": [
    "![](images/primeApproach_01a.png)"
   ]
  },
  {
   "cell_type": "markdown",
   "metadata": {},
   "source": [
    "### Approach 2: For Loops with Break"
   ]
  },
  {
   "cell_type": "markdown",
   "metadata": {},
   "source": [
    "Approach 2 is more efficient than approach 1 because as soon as you find a given number isn’t a prime number you can exit out of loop using <b>break</b>."
   ]
  },
  {
   "cell_type": "code",
   "execution_count": 20,
   "metadata": {},
   "outputs": [],
   "source": [
    "# Initialize a list\n",
    "primes = []\n",
    "for possiblePrime in range(2, 21):\n",
    "    \n",
    "    # Assume number is prime until shown it is not. \n",
    "    isPrime = True\n",
    "    for num in range(2, possiblePrime):\n",
    "        if possiblePrime % num == 0:\n",
    "            isPrime = False\n",
    "            break\n",
    "      \n",
    "    if isPrime:\n",
    "        primes.append(possiblePrime)"
   ]
  },
  {
   "cell_type": "markdown",
   "metadata": {},
   "source": [
    "Approach 2 is much more efficient than approach 1. For example, if you look at the case when <b>possiblePrime = 15</b>, notice that there is much less iteration in approach 2."
   ]
  },
  {
   "cell_type": "markdown",
   "metadata": {},
   "source": [
    "![](images/primeApproach_1_2_comparison.png)"
   ]
  },
  {
   "cell_type": "markdown",
   "metadata": {},
   "source": [
    "### Approach 3: For Loop, Break, and Square Root"
   ]
  },
  {
   "cell_type": "markdown",
   "metadata": {},
   "source": [
    "Approach 2 benefited from not doing unnecessary iterations in the inner for loop. Approach 3 is similar except the inner range function. Notice that the inner range function is now <b>range(2, int(possiblePrime ** 0.5) + 1)</b>."
   ]
  },
  {
   "cell_type": "code",
   "execution_count": 7,
   "metadata": {
    "collapsed": true
   },
   "outputs": [],
   "source": [
    "## For Loop, Break, and Square Root (more efficient)\n",
    "\n",
    "# Initialize a list\n",
    "primes = []\n",
    "for possiblePrime in range(2, 21):\n",
    "    \n",
    "    # Assume number is prime until shown it is not. \n",
    "    isPrime = True\n",
    "    for num in range(2, int(possiblePrime ** 0.5) + 1):\n",
    "        if possiblePrime % num == 0:\n",
    "            isPrime = False\n",
    "            break\n",
    "      \n",
    "    if isPrime:\n",
    "        primes.append(possiblePrime)"
   ]
  },
  {
   "cell_type": "code",
   "execution_count": 8,
   "metadata": {},
   "outputs": [
    {
     "data": {
      "text/plain": [
       "[2, 3, 5, 7, 11, 13, 17, 19]"
      ]
     },
     "execution_count": 8,
     "metadata": {},
     "output_type": "execute_result"
    }
   ],
   "source": [
    "primes"
   ]
  },
  {
   "cell_type": "markdown",
   "metadata": {},
   "source": [
    "To explain why this approach works, it is important to note a few things. A composite number is a positive number greater than 1 that is not prime (which has [factors](http://mathworld.wolfram.com/Factor.html) other than 1 and itself). Every composite number has a factor less than or equal to its square root (proof [here](http://mathandmultimedia.com/2012/06/02/determining-primes-through-square-root/)). For example, in the image of the factors of 15 below, notice that the factors in red are just the reverses of the green factors. In other words, by the commutative property of multiplication 3 x 5 = 5 x 3. You just need to include the green pairs to be sure that you have all the factors."
   ]
  },
  {
   "cell_type": "markdown",
   "metadata": {},
   "source": [
    "![](images/primeApproach_03.png)"
   ]
  },
  {
   "cell_type": "markdown",
   "metadata": {},
   "source": [
    "## 3). Fibonacci Sequence"
   ]
  },
  {
   "cell_type": "markdown",
   "metadata": {},
   "source": [
    "Fibonacci sequence is an integer sequence characterized by the fact that every number after the first two is the sum of the two preceding ones. By definition, the first two numbers in the Fibonacci sequence are either 1 and 1 (<b>which is how I like to code it</b>), or 0 and 1, depending on the chosen starting point of the sequence, and each subsequent number is the sum of the previous two."
   ]
  },
  {
   "cell_type": "code",
   "execution_count": 21,
   "metadata": {},
   "outputs": [
    {
     "name": "stdout",
     "output_type": "stream",
     "text": [
      "Fib(a):  1 b is:  1\n",
      "Fib(a):  1 b is:  2\n",
      "Fib(a):  2 b is:  3\n",
      "Fib(a):  3 b is:  5\n",
      "Fib(a):  5 b is:  8\n",
      "Fib(a):  8 b is:  13\n",
      "Fib(a):  13 b is:  21\n",
      "Fib(a):  21 b is:  34\n",
      "Fib(a):  34 b is:  55\n",
      "Fib(a):  55 b is:  89\n"
     ]
    }
   ],
   "source": [
    "a,b = 1,1\n",
    "for i in range(10):\n",
    "    print(\"Fib(a): \", a, \"b is: \", b)\n",
    "    a,b = b,a+b   "
   ]
  },
  {
   "cell_type": "markdown",
   "metadata": {},
   "source": [
    "## 4). Word Count\n",
    "\n",
    "For the text in the variable <b>text</b>, count how many times each word occurs"
   ]
  },
  {
   "cell_type": "code",
   "execution_count": 24,
   "metadata": {},
   "outputs": [],
   "source": [
    "# Multiple line string\n",
    "text=\"\"\"Mr. Collins returned into Hertfordshire soon after it had been quitted by the Gardiners and Jane; but as he took up his abode with the Lucases, his arrival was no great inconvenience to Mrs. Bennet. His marriage was now fast approaching, and she was at length so far resigned as to think it inevitable, and even repeatedly to say, in an ill-natured tone, that she \"wished they might be happy.\" Thursday was to be the wedding day, and on Wednesday Miss Lucas paid her farewell visit; and when she rose to take leave, Elizabeth, ashamed of her mother's ungracious and reluctant good wishes, and sincerely affected herself, accompanied her out of the room. As they went downstairs together, Charlotte said:\"\"\""
   ]
  },
  {
   "cell_type": "code",
   "execution_count": 25,
   "metadata": {},
   "outputs": [
    {
     "name": "stdout",
     "output_type": "stream",
     "text": [
      "Mr. Collins returned into Hertfordshire soon after it had been quitted by the Gardiners and Jane; but as he took up his abode with the Lucases, his arrival was no great inconvenience to Mrs. Bennet. His marriage was now fast approaching, and she was at length so far resigned as to think it inevitable, and even repeatedly to say, in an ill-natured tone, that she \"wished they might be happy.\" Thursday was to be the wedding day, and on Wednesday Miss Lucas paid her farewell visit; and when she rose to take leave, Elizabeth, ashamed of her mother's ungracious and reluctant good wishes, and sincerely affected herself, accompanied her out of the room. As they went downstairs together, Charlotte said:\n"
     ]
    }
   ],
   "source": [
    "print(text)"
   ]
  },
  {
   "cell_type": "markdown",
   "metadata": {},
   "source": [
    "### Subtasks"
   ]
  },
  {
   "cell_type": "markdown",
   "metadata": {},
   "source": [
    "#### a. String Manipulation: Remove Punctuation, make all text lower()"
   ]
  },
  {
   "cell_type": "code",
   "execution_count": 27,
   "metadata": {},
   "outputs": [],
   "source": [
    "# Cleaning text and lower casing all words\n",
    "for char in ':;-.,\\n\\\"':\n",
    "    text=text.replace(char,' ')\n",
    "text = text.lower()"
   ]
  },
  {
   "cell_type": "code",
   "execution_count": 28,
   "metadata": {},
   "outputs": [
    {
     "data": {
      "text/plain": [
       "\"mr  collins returned into hertfordshire soon after it had been quitted by the gardiners and jane  but as he took up his abode with the lucases  his arrival was no great inconvenience to mrs  bennet  his marriage was now fast approaching  and she was at length so far resigned as to think it inevitable  and even repeatedly to say  in an ill natured tone  that she  wished they might be happy   thursday was to be the wedding day  and on wednesday miss lucas paid her farewell visit  and when she rose to take leave  elizabeth  ashamed of her mother's ungracious and reluctant good wishes  and sincerely affected herself  accompanied her out of the room  as they went downstairs together  charlotte said \""
      ]
     },
     "execution_count": 28,
     "metadata": {},
     "output_type": "execute_result"
    }
   ],
   "source": [
    "text"
   ]
  },
  {
   "cell_type": "markdown",
   "metadata": {},
   "source": [
    "#### b. String Manipulation: Split each word into a element in a list"
   ]
  },
  {
   "cell_type": "code",
   "execution_count": 29,
   "metadata": {},
   "outputs": [],
   "source": [
    "# split returns a list of words delimited by sequences of whitespace (including tabs, newlines, etc, like re's \\s) \n",
    "word_list = text.split()"
   ]
  },
  {
   "cell_type": "code",
   "execution_count": 32,
   "metadata": {},
   "outputs": [
    {
     "data": {
      "text/plain": [
       "['mr',\n",
       " 'collins',\n",
       " 'returned',\n",
       " 'into',\n",
       " 'hertfordshire',\n",
       " 'soon',\n",
       " 'after',\n",
       " 'it',\n",
       " 'had',\n",
       " 'been',\n",
       " 'quitted',\n",
       " 'by',\n",
       " 'the',\n",
       " 'gardiners',\n",
       " 'and',\n",
       " 'jane',\n",
       " 'but',\n",
       " 'as',\n",
       " 'he',\n",
       " 'took',\n",
       " 'up',\n",
       " 'his',\n",
       " 'abode',\n",
       " 'with',\n",
       " 'the',\n",
       " 'lucases',\n",
       " 'his',\n",
       " 'arrival',\n",
       " 'was',\n",
       " 'no',\n",
       " 'great',\n",
       " 'inconvenience',\n",
       " 'to',\n",
       " 'mrs',\n",
       " 'bennet',\n",
       " 'his',\n",
       " 'marriage',\n",
       " 'was',\n",
       " 'now',\n",
       " 'fast',\n",
       " 'approaching',\n",
       " 'and',\n",
       " 'she',\n",
       " 'was',\n",
       " 'at',\n",
       " 'length',\n",
       " 'so',\n",
       " 'far',\n",
       " 'resigned',\n",
       " 'as',\n",
       " 'to',\n",
       " 'think',\n",
       " 'it',\n",
       " 'inevitable',\n",
       " 'and',\n",
       " 'even',\n",
       " 'repeatedly',\n",
       " 'to',\n",
       " 'say',\n",
       " 'in',\n",
       " 'an',\n",
       " 'ill',\n",
       " 'natured',\n",
       " 'tone',\n",
       " 'that',\n",
       " 'she',\n",
       " 'wished',\n",
       " 'they',\n",
       " 'might',\n",
       " 'be',\n",
       " 'happy',\n",
       " 'thursday',\n",
       " 'was',\n",
       " 'to',\n",
       " 'be',\n",
       " 'the',\n",
       " 'wedding',\n",
       " 'day',\n",
       " 'and',\n",
       " 'on',\n",
       " 'wednesday',\n",
       " 'miss',\n",
       " 'lucas',\n",
       " 'paid',\n",
       " 'her',\n",
       " 'farewell',\n",
       " 'visit',\n",
       " 'and',\n",
       " 'when',\n",
       " 'she',\n",
       " 'rose',\n",
       " 'to',\n",
       " 'take',\n",
       " 'leave',\n",
       " 'elizabeth',\n",
       " 'ashamed',\n",
       " 'of',\n",
       " 'her',\n",
       " \"mother's\",\n",
       " 'ungracious',\n",
       " 'and',\n",
       " 'reluctant',\n",
       " 'good',\n",
       " 'wishes',\n",
       " 'and',\n",
       " 'sincerely',\n",
       " 'affected',\n",
       " 'herself',\n",
       " 'accompanied',\n",
       " 'her',\n",
       " 'out',\n",
       " 'of',\n",
       " 'the',\n",
       " 'room',\n",
       " 'as',\n",
       " 'they',\n",
       " 'went',\n",
       " 'downstairs',\n",
       " 'together',\n",
       " 'charlotte',\n",
       " 'said']"
      ]
     },
     "execution_count": 32,
     "metadata": {},
     "output_type": "execute_result"
    }
   ],
   "source": [
    "word_list"
   ]
  },
  {
   "cell_type": "markdown",
   "metadata": {},
   "source": [
    "#### c. Count how many times each word occurs in a list using a dictionary"
   ]
  },
  {
   "cell_type": "code",
   "execution_count": 35,
   "metadata": {},
   "outputs": [
    {
     "data": {
      "text/plain": [
       "['mr',\n",
       " 'collins',\n",
       " 'returned',\n",
       " 'into',\n",
       " 'hertfordshire',\n",
       " 'soon',\n",
       " 'after',\n",
       " 'it',\n",
       " 'had',\n",
       " 'been',\n",
       " 'quitted',\n",
       " 'by',\n",
       " 'the',\n",
       " 'gardiners',\n",
       " 'and',\n",
       " 'jane',\n",
       " 'but',\n",
       " 'as',\n",
       " 'he',\n",
       " 'took',\n",
       " 'up',\n",
       " 'his',\n",
       " 'abode',\n",
       " 'with',\n",
       " 'the',\n",
       " 'lucases',\n",
       " 'his',\n",
       " 'arrival',\n",
       " 'was',\n",
       " 'no',\n",
       " 'great',\n",
       " 'inconvenience',\n",
       " 'to',\n",
       " 'mrs',\n",
       " 'bennet',\n",
       " 'his',\n",
       " 'marriage',\n",
       " 'was',\n",
       " 'now',\n",
       " 'fast',\n",
       " 'approaching',\n",
       " 'and',\n",
       " 'she',\n",
       " 'was',\n",
       " 'at',\n",
       " 'length',\n",
       " 'so',\n",
       " 'far',\n",
       " 'resigned',\n",
       " 'as',\n",
       " 'to',\n",
       " 'think',\n",
       " 'it',\n",
       " 'inevitable',\n",
       " 'and',\n",
       " 'even',\n",
       " 'repeatedly',\n",
       " 'to',\n",
       " 'say',\n",
       " 'in',\n",
       " 'an',\n",
       " 'ill',\n",
       " 'natured',\n",
       " 'tone',\n",
       " 'that',\n",
       " 'she',\n",
       " 'wished',\n",
       " 'they',\n",
       " 'might',\n",
       " 'be',\n",
       " 'happy',\n",
       " 'thursday',\n",
       " 'was',\n",
       " 'to',\n",
       " 'be',\n",
       " 'the',\n",
       " 'wedding',\n",
       " 'day',\n",
       " 'and',\n",
       " 'on',\n",
       " 'wednesday',\n",
       " 'miss',\n",
       " 'lucas',\n",
       " 'paid',\n",
       " 'her',\n",
       " 'farewell',\n",
       " 'visit',\n",
       " 'and',\n",
       " 'when',\n",
       " 'she',\n",
       " 'rose',\n",
       " 'to',\n",
       " 'take',\n",
       " 'leave',\n",
       " 'elizabeth',\n",
       " 'ashamed',\n",
       " 'of',\n",
       " 'her',\n",
       " \"mother's\",\n",
       " 'ungracious',\n",
       " 'and',\n",
       " 'reluctant',\n",
       " 'good',\n",
       " 'wishes',\n",
       " 'and',\n",
       " 'sincerely',\n",
       " 'affected',\n",
       " 'herself',\n",
       " 'accompanied',\n",
       " 'her',\n",
       " 'out',\n",
       " 'of',\n",
       " 'the',\n",
       " 'room',\n",
       " 'as',\n",
       " 'they',\n",
       " 'went',\n",
       " 'downstairs',\n",
       " 'together',\n",
       " 'charlotte',\n",
       " 'said']"
      ]
     },
     "execution_count": 35,
     "metadata": {},
     "output_type": "execute_result"
    }
   ],
   "source": [
    "word_list"
   ]
  },
  {
   "cell_type": "code",
   "execution_count": 36,
   "metadata": {},
   "outputs": [],
   "source": [
    "# Initializing Dictionary\n",
    "d = {}\n",
    "\n",
    "# counting number of times each word comes up in list of words (in dictionary)\n",
    "for word in word_list: \n",
    "    d[word] = d.get(word, 0) + 1"
   ]
  },
  {
   "cell_type": "code",
   "execution_count": 37,
   "metadata": {},
   "outputs": [
    {
     "data": {
      "text/plain": [
       "{'mr': 1,\n",
       " 'collins': 1,\n",
       " 'returned': 1,\n",
       " 'into': 1,\n",
       " 'hertfordshire': 1,\n",
       " 'soon': 1,\n",
       " 'after': 1,\n",
       " 'it': 2,\n",
       " 'had': 1,\n",
       " 'been': 1,\n",
       " 'quitted': 1,\n",
       " 'by': 1,\n",
       " 'the': 4,\n",
       " 'gardiners': 1,\n",
       " 'and': 7,\n",
       " 'jane': 1,\n",
       " 'but': 1,\n",
       " 'as': 3,\n",
       " 'he': 1,\n",
       " 'took': 1,\n",
       " 'up': 1,\n",
       " 'his': 3,\n",
       " 'abode': 1,\n",
       " 'with': 1,\n",
       " 'lucases': 1,\n",
       " 'arrival': 1,\n",
       " 'was': 4,\n",
       " 'no': 1,\n",
       " 'great': 1,\n",
       " 'inconvenience': 1,\n",
       " 'to': 5,\n",
       " 'mrs': 1,\n",
       " 'bennet': 1,\n",
       " 'marriage': 1,\n",
       " 'now': 1,\n",
       " 'fast': 1,\n",
       " 'approaching': 1,\n",
       " 'she': 3,\n",
       " 'at': 1,\n",
       " 'length': 1,\n",
       " 'so': 1,\n",
       " 'far': 1,\n",
       " 'resigned': 1,\n",
       " 'think': 1,\n",
       " 'inevitable': 1,\n",
       " 'even': 1,\n",
       " 'repeatedly': 1,\n",
       " 'say': 1,\n",
       " 'in': 1,\n",
       " 'an': 1,\n",
       " 'ill': 1,\n",
       " 'natured': 1,\n",
       " 'tone': 1,\n",
       " 'that': 1,\n",
       " 'wished': 1,\n",
       " 'they': 2,\n",
       " 'might': 1,\n",
       " 'be': 2,\n",
       " 'happy': 1,\n",
       " 'thursday': 1,\n",
       " 'wedding': 1,\n",
       " 'day': 1,\n",
       " 'on': 1,\n",
       " 'wednesday': 1,\n",
       " 'miss': 1,\n",
       " 'lucas': 1,\n",
       " 'paid': 1,\n",
       " 'her': 3,\n",
       " 'farewell': 1,\n",
       " 'visit': 1,\n",
       " 'when': 1,\n",
       " 'rose': 1,\n",
       " 'take': 1,\n",
       " 'leave': 1,\n",
       " 'elizabeth': 1,\n",
       " 'ashamed': 1,\n",
       " 'of': 2,\n",
       " \"mother's\": 1,\n",
       " 'ungracious': 1,\n",
       " 'reluctant': 1,\n",
       " 'good': 1,\n",
       " 'wishes': 1,\n",
       " 'sincerely': 1,\n",
       " 'affected': 1,\n",
       " 'herself': 1,\n",
       " 'accompanied': 1,\n",
       " 'out': 1,\n",
       " 'room': 1,\n",
       " 'went': 1,\n",
       " 'downstairs': 1,\n",
       " 'together': 1,\n",
       " 'charlotte': 1,\n",
       " 'said': 1}"
      ]
     },
     "execution_count": 37,
     "metadata": {},
     "output_type": "execute_result"
    }
   ],
   "source": [
    "d"
   ]
  },
  {
   "cell_type": "code",
   "execution_count": 15,
   "metadata": {},
   "outputs": [
    {
     "data": {
      "text/plain": [
       "\"mr  collins returned into hertfordshire soon after it had been quitted by the gardiners and jane  but as he took up his abode with the lucases  his arrival was no great inconvenience to mrs  bennet  his marriage was now fast approaching  and she was at length so far resigned as to think it inevitable  and even repeatedly to say  in an ill natured tone  that she  wished they might be happy   thursday was to be the wedding day  and on wednesday miss lucas paid her farewell visit  and when she rose to take leave  elizabeth  ashamed of her mother's ungracious and reluctant good wishes  and sincerely affected herself  accompanied her out of the room  as they went downstairs together  charlotte said \""
      ]
     },
     "execution_count": 15,
     "metadata": {},
     "output_type": "execute_result"
    }
   ],
   "source": [
    "## Keep in Mind you could also use regular expression\n",
    "\n",
    "import re\n",
    "re.sub(',|;|\\.', repl = '', string = text)"
   ]
  },
  {
   "cell_type": "markdown",
   "metadata": {},
   "source": [
    "## 5). Calculating a Monthly Car Payment"
   ]
  },
  {
   "cell_type": "markdown",
   "metadata": {},
   "source": [
    "Your monthly payment, also called your Equated Monthly Installment (EMI) is defined by [Investopedia](https://en.wikipedia.org/wiki/Investopedia) as a fixed payment amount made by a borrower to a lender at a specified date each calendar month. Equated monthly installments are used to pay off both interest and principal each month, so that over a specified number of years, the loan is paid off in full."
   ]
  },
  {
   "cell_type": "markdown",
   "metadata": {},
   "source": [
    "A monthly payment can be calculated using an EMI formula similar to the one below."
   ]
  },
  {
   "cell_type": "markdown",
   "metadata": {},
   "source": [
    "![](images/EMI_formula.png)"
   ]
  },
  {
   "cell_type": "markdown",
   "metadata": {},
   "source": [
    "Say I buy want to buy a 2019 Toyota Sienna for $31,115. I am curious how much it will cost me each month if I decide on taking out a loan to buy this new vehicle. A car dealer offers me a fixed interest rate of 7.02% over a 60 month term. How much would a monthly car payment be assuming the sales tax rate is 7.5%?"
   ]
  },
  {
   "cell_type": "code",
   "execution_count": 38,
   "metadata": {},
   "outputs": [
    {
     "data": {
      "text/plain": [
       "662.64"
      ]
     },
     "execution_count": 38,
     "metadata": {},
     "output_type": "execute_result"
    }
   ],
   "source": [
    "%matplotlib inline\n",
    "import matplotlib.pyplot as plt\n",
    "import numpy as np\n",
    "import pandas as pd\n",
    "\n",
    "P = 31115 * (1.075)\n",
    "r = 0.0702 / 12\n",
    "n = 60\n",
    "numerator = (r *((1 + r)**(n)) )\n",
    "denominator = ((1 + r)**(n)) - 1\n",
    "emi = P * (numerator / denominator)\n",
    "np.round(emi,2)"
   ]
  },
  {
   "cell_type": "markdown",
   "metadata": {},
   "source": [
    "![](images/monthlyCarPayment.png)"
   ]
  },
  {
   "cell_type": "markdown",
   "metadata": {},
   "source": [
    "While this is a simplified and relatively accurate calculation (except for the sales tax being an assumption), more accurate calculations require work. Data Analytics/Science is about communicating results. We really do need how to do something more complicated (how much in total interest are we paying, how do we visualize this . This is what we will explore in future lectures."
   ]
  },
  {
   "cell_type": "markdown",
   "metadata": {},
   "source": [
    "### Challenge Question: Calculate Total Interest Paid Over the Course of a Loan"
   ]
  },
  {
   "cell_type": "markdown",
   "metadata": {},
   "source": [
    "This requires knowing a few things. It is often the case"
   ]
  },
  {
   "cell_type": "markdown",
   "metadata": {},
   "source": [
    "1-) The first thing is to calculate how much of the monthly payment will be paid towards interest in a month."
   ]
  },
  {
   "cell_type": "markdown",
   "metadata": {},
   "source": [
    "Interest paid\n",
    "\n",
    "$$r*P$$ where r is the interest rate (APR) and P is the principal"
   ]
  },
  {
   "cell_type": "markdown",
   "metadata": {},
   "source": [
    "![](images/oneMonthInterest.png)"
   ]
  },
  {
   "cell_type": "markdown",
   "metadata": {},
   "source": [
    "2-) Each month, some of the monthly payment is paid towards principal and some towards interest. As principal lowers, to work out the interest you pay in the following months, you need to first calculate your new principal. You can see how to calculate this below."
   ]
  },
  {
   "cell_type": "markdown",
   "metadata": {},
   "source": [
    "![](images/newPrincipal.png)\n"
   ]
  },
  {
   "cell_type": "markdown",
   "metadata": {},
   "source": [
    "3-) Repeat steps 1 and 2 until the principal reaches 0. You can see an example of this in the Python code below."
   ]
  },
  {
   "cell_type": "code",
   "execution_count": 43,
   "metadata": {},
   "outputs": [],
   "source": [
    "term = 60\n",
    "P = 34689.96\n",
    "\n",
    "def calc_interest(P,emi,interest_rate = 0.0702):\n",
    "    interest_paid = np.floor(((interest_rate/12)*P)*100)/100\n",
    "    principal_paid = np.round(emi-interest_paid, 2)\n",
    "    new_balance = np.round(P - principal_paid,2)\n",
    "    return(emi, interest_paid, principal_paid, new_balance)\n",
    "\n",
    "payment_list = []\n",
    "for n in range(1, term + 1):\n",
    "    emi,i_paid,p_paid,new_p = calc_interest(P, emi)\n",
    "    payment_list.append([n, P, emi, i_paid, p_paid, new_p])\n",
    "    P = np.round(new_p,2)\n"
   ]
  },
  {
   "cell_type": "code",
   "execution_count": null,
   "metadata": {},
   "outputs": [],
   "source": []
  },
  {
   "cell_type": "code",
   "execution_count": 45,
   "metadata": {},
   "outputs": [
    {
     "data": {
      "text/html": [
       "<div>\n",
       "<style scoped>\n",
       "    .dataframe tbody tr th:only-of-type {\n",
       "        vertical-align: middle;\n",
       "    }\n",
       "\n",
       "    .dataframe tbody tr th {\n",
       "        vertical-align: top;\n",
       "    }\n",
       "\n",
       "    .dataframe thead th {\n",
       "        text-align: right;\n",
       "    }\n",
       "</style>\n",
       "<table border=\"1\" class=\"dataframe\">\n",
       "  <thead>\n",
       "    <tr style=\"text-align: right;\">\n",
       "      <th></th>\n",
       "      <th>Month</th>\n",
       "      <th>Starting Balance</th>\n",
       "      <th>Repayment</th>\n",
       "      <th>Interest Paid</th>\n",
       "      <th>Principal Paid</th>\n",
       "      <th>New Balance</th>\n",
       "    </tr>\n",
       "  </thead>\n",
       "  <tbody>\n",
       "    <tr>\n",
       "      <th>0</th>\n",
       "      <td>1</td>\n",
       "      <td>34689.96</td>\n",
       "      <td>662.638532</td>\n",
       "      <td>202.93</td>\n",
       "      <td>459.71</td>\n",
       "      <td>34230.25</td>\n",
       "    </tr>\n",
       "    <tr>\n",
       "      <th>1</th>\n",
       "      <td>2</td>\n",
       "      <td>34230.25</td>\n",
       "      <td>662.638532</td>\n",
       "      <td>200.24</td>\n",
       "      <td>462.40</td>\n",
       "      <td>33767.85</td>\n",
       "    </tr>\n",
       "    <tr>\n",
       "      <th>2</th>\n",
       "      <td>3</td>\n",
       "      <td>33767.85</td>\n",
       "      <td>662.638532</td>\n",
       "      <td>197.54</td>\n",
       "      <td>465.10</td>\n",
       "      <td>33302.75</td>\n",
       "    </tr>\n",
       "    <tr>\n",
       "      <th>3</th>\n",
       "      <td>4</td>\n",
       "      <td>33302.75</td>\n",
       "      <td>662.638532</td>\n",
       "      <td>194.82</td>\n",
       "      <td>467.82</td>\n",
       "      <td>32834.93</td>\n",
       "    </tr>\n",
       "    <tr>\n",
       "      <th>4</th>\n",
       "      <td>5</td>\n",
       "      <td>32834.93</td>\n",
       "      <td>662.638532</td>\n",
       "      <td>192.08</td>\n",
       "      <td>470.56</td>\n",
       "      <td>32364.37</td>\n",
       "    </tr>\n",
       "  </tbody>\n",
       "</table>\n",
       "</div>"
      ],
      "text/plain": [
       "   Month  Starting Balance   Repayment  Interest Paid  Principal Paid  \\\n",
       "0      1          34689.96  662.638532         202.93          459.71   \n",
       "1      2          34230.25  662.638532         200.24          462.40   \n",
       "2      3          33767.85  662.638532         197.54          465.10   \n",
       "3      4          33302.75  662.638532         194.82          467.82   \n",
       "4      5          32834.93  662.638532         192.08          470.56   \n",
       "\n",
       "   New Balance  \n",
       "0     34230.25  \n",
       "1     33767.85  \n",
       "2     33302.75  \n",
       "3     32834.93  \n",
       "4     32364.37  "
      ]
     },
     "execution_count": 45,
     "metadata": {},
     "output_type": "execute_result"
    }
   ],
   "source": [
    "c_names = ['Month','Starting Balance','Repayment','Interest Paid','Principal Paid','New Balance']\n",
    "payment_table = pd.DataFrame(payment_list, columns = c_names)\n",
    "payment_table.head()"
   ]
  },
  {
   "cell_type": "code",
   "execution_count": 46,
   "metadata": {},
   "outputs": [
    {
     "data": {
      "text/plain": [
       "6829.48"
      ]
     },
     "execution_count": 46,
     "metadata": {},
     "output_type": "execute_result"
    }
   ],
   "source": [
    "np.round(payment_table['Interest Paid'].sum(), 2)"
   ]
  },
  {
   "cell_type": "code",
   "execution_count": 47,
   "metadata": {},
   "outputs": [
    {
     "data": {
      "image/png": "[encoded data removed]",
      "text/plain": [
       "<Figure size 720x360 with 1 Axes>"
      ]
     },
     "metadata": {
      "needs_background": "light"
     },
     "output_type": "display_data"
    }
   ],
   "source": [
    "fig, axes = plt.subplots(nrows = 1, ncols = 1, figsize=(10, 5) )\n",
    "axes.plot(payment_table['Month'], payment_table['Principal Paid'], c = 'b', label = 'Principal');\n",
    "axes.plot(payment_table['Month'], payment_table['Interest Paid'], c = 'k', label = 'Interest');\n",
    "\n",
    "axes.set_xlim((1, 60));\n",
    "axes.set_xticks([1, 10, 20, 30, 40, 50, 60])\n",
    "axes.set_ylim((0, 700));\n",
    "axes.set_ylabel('Dollars', fontsize = 22);\n",
    "axes.set_xlabel('Month', fontsize = 22);\n",
    "\n",
    "plt.xticks(fontsize = 20)\n",
    "plt.yticks(fontsize = 20)\n",
    "axes.set_title('Interest and Principal Paid Each Month', fontsize = 24)\n",
    "\n",
    "plt.legend(bbox_to_anchor=(1.02,0), loc=\"lower left\", borderaxespad=0, fontsize = 20)\n",
    "plt.tight_layout()\n",
    "plt.grid(axis = 'both')\n",
    "#plt.savefig('Interest_Principal.png', dpi = 1000)"
   ]
  },
  {
   "cell_type": "code",
   "execution_count": null,
   "metadata": {
    "collapsed": true
   },
   "outputs": [],
   "source": []
  }
 ],
 "metadata": {
  "anaconda-cloud": {},
  "kernelspec": {
   "display_name": "Python 3",
   "language": "python",
   "name": "python3"
  },
  "language_info": {
   "codemirror_mode": {
    "name": "ipython",
    "version": 3
   },
   "file_extension": ".py",
   "mimetype": "text/x-python",
   "name": "python",
   "nbconvert_exporter": "python",
   "pygments_lexer": "ipython3",
   "version": "3.7.1"
  }
 },
 "nbformat": 4,
 "nbformat_minor": 1
}
